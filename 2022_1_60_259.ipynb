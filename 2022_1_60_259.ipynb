{
  "cells": [
    {
      "cell_type": "markdown",
      "metadata": {
        "id": "_1DT1mZxuic-"
      },
      "source": [
        "#Dataset description\n",
        "\n",
        "This dataset records detailed information about ticket sales and customer behavior at a cinema hall, offering insights into various aspects such as demographics, movie genre preferences, seat selection, ticket pricing, and customer retention patterns. It is designed to help analyze customer engagement, spending behavior, and factors that influence repeat visits to the cinema. The data is useful for predictive modeling and can support decision-making processes related to customer retention, marketing strategies, and optimizing cinema operations.\n",
        "\n",
        "Columns Overview:\n",
        "\n",
        "**Ticket_ID (Categorical):**\n",
        "\n",
        "Description: A unique alphanumeric identifier for each ticket purchase. The ID consists of a random uppercase letter (A-Z) followed by a 4-digit number (e.g., B7539, Y1344).\n",
        "Significance: This column helps identify each individual transaction. It's a categorical variable, essential for tracking specific customer purchases but not related to other variables directly.\n",
        "\n",
        "**Age (Numerical):**\n",
        "\n",
        "Description: The age of the customer who purchased the ticket, ranging between 18 and 60 years.\n",
        "Significance: Age is an important demographic feature, providing insights into customer segments. For example, younger audiences might prefer different movie genres or seating types compared to older customers. Analyzing age data can help cinema halls cater to the needs of various age groups.\n",
        "\n",
        "**Ticket_Price (Numerical):**\n",
        "\n",
        "Description: The price the customer paid for the ticket, typically ranging from $10 to $25. The price varies based on factors like movie time, seat type, or cinema location.\n",
        "Significance: Ticket price reflects customer spending and the cinema's pricing strategy. Understanding how ticket pricing impacts customer behavior can help optimize ticket sales and maximize revenue.\n",
        "\n",
        "**Movie_Genre (Categorical):**\n",
        "\n",
        "Description: The genre of the movie the customer attended, which can include one of the following: Action, Comedy, Horror, Drama, or Sci-Fi.\n",
        "Significance: Genre preferences are crucial for understanding customer interests. Analyzing which genres are most popular can guide movie scheduling, marketing strategies, and even help in curating personalized recommendations for customers.\n",
        "\n",
        "**Seat_Type (Ordinal):**\n",
        "\n",
        "Description: The type of seat selected by the customer, with three ordinal categories:\n",
        "Standard (Basic seating option)\n",
        "Premium (Enhanced seating with added comfort)\n",
        "VIP (Exclusive seating, offering premium features like extra legroom and priority service)\n",
        "Significance: Seat type provides insights into customer spending behavior. Premium and VIP seat types typically correlate with higher ticket prices, and understanding seat preferences can help in optimizing cinema layout and pricing strategies. Additionally, this column can be used to gauge the popularity of high-end seating options.\n",
        "\n",
        "**Number_of_Person (Mixed Variable):**\n",
        "\n",
        "Description: The number of people accompanying the customer. This can either be:\n",
        "Alone: The customer attended alone.\n",
        "2–7: The customer attended with a group of 2 to 7 people.\n",
        "Significance: Group size is an important factor in understanding customer preferences and behavior. For example, groups might purchase more tickets or opt for different movie genres and seat types than solo attendees. This column is crucial for analyzing social dynamics and group behavior in cinema attendance.\n",
        "\n",
        "**Purchase_Again (Target - Binary):**\n",
        "\n",
        "Description: A binary target variable indicating whether the customer is likely to return and purchase another ticket. It has two possible values:\n",
        "Yes: The customer is likely to return for another movie.\n",
        "No: The customer is not likely to return.\n",
        "Significance: This is the key column for predictive modeling. It is used to assess customer retention and predict the likelihood of future ticket purchases. Analyzing the factors that influence repeat purchases (e.g., age, genre preferences, seat types) helps cinema halls optimize marketing and customer engagement strategies.\n"
      ]
    },
    {
      "cell_type": "markdown",
      "metadata": {
        "id": "OSt4WtiXDzgt"
      },
      "source": [
        "#Task\n",
        "\n",
        "## 1. Rename this notebook with your id\n",
        "2. Load given dataset\n",
        "3. Display dataset information and clean the data (print first 15 rows, show all column name, check for null, handle null values, show all unique values for non numeric column)\n",
        "4. Map the non numeric colum using dictionary. Note, your target column is \"Purchase_Again\".\n",
        "\n",
        "5. Apply Machine learning algorithms (SVM, DT and RF) and display their accuracy, precision, recall, confusin matrix. Note, you MUST write your findings after each code blocks. This is where you discuss regarding the reuslt you received.\n",
        "\n",
        "6. Make a comparison table with all the results from different ML Algos.\n",
        "\n",
        "7. Apply \"grid search\" to improve the achieved results for SVM, DT and random forest. Hint: you need to find what are the parameters to be tuned and what is their expected range. Accordingly, set 'grid search' parameters.\n",
        "\n",
        "8. Suggest and use anyother parameter tuning technique that is more suitable that grid search for any of these ML Alogs. Justify your choice.\n",
        "\n",
        "9. Finally, report the best models that you created. Justify why it is best. Carefully report required performance measures. Hints: Different performance measures may be selected for balanced vs unbalanced dataset."
      ]
    },
    {
      "cell_type": "markdown",
      "metadata": {
        "id": "lQs7ciNSYFzC"
      },
      "source": [
        "# Importing Libraries"
      ]
    },
    {
      "cell_type": "code",
      "execution_count": null,
      "metadata": {
        "id": "g6Tmy666wdZG"
      },
      "outputs": [],
      "source": [
        "import pandas as pd\n",
        "import seaborn as sns\n",
        "import numpy as np\n",
        "from sklearn import tree\n",
        "import matplotlib.pyplot as plt\n",
        "from sklearn.tree import DecisionTreeClassifier\n",
        "from sklearn.ensemble import RandomForestClassifier\n",
        "from sklearn.svm import SVC\n",
        "from sklearn.model_selection import train_test_split\n",
        "from sklearn.metrics import accuracy_score, precision_score, recall_score, f1_score, classification_report, confusion_matrix\n",
        "from sklearn.model_selection import GridSearchCV\n"
      ]
    },
    {
      "cell_type": "markdown",
      "metadata": {
        "id": "WD1ceECEYYQw"
      },
      "source": [
        "# Loading Dataset"
      ]
    },
    {
      "cell_type": "code",
      "execution_count": null,
      "metadata": {
        "id": "--Gt10nHw2n9",
        "colab": {
          "base_uri": "https://localhost:8080/"
        },
        "outputId": "65a1d926-dae0-476d-9fec-1f8b894e7a7d"
      },
      "outputs": [
        {
          "output_type": "stream",
          "name": "stdout",
          "text": [
            "Mounted at /content/drive\n"
          ]
        }
      ],
      "source": [
        "from google.colab import drive\n",
        "drive.mount('/content/drive')"
      ]
    },
    {
      "cell_type": "code",
      "execution_count": null,
      "metadata": {
        "id": "8bGyy_I6w4B0"
      },
      "outputs": [],
      "source": [
        "df = pd.read_csv('/content/cinema_hall_ticket_sales.csv')"
      ]
    },
    {
      "cell_type": "code",
      "execution_count": null,
      "metadata": {
        "id": "is18QscUxPC9",
        "colab": {
          "base_uri": "https://localhost:8080/",
          "height": 519
        },
        "outputId": "67f97005-30b7-47d4-810c-d64b9f7e7df0"
      },
      "outputs": [
        {
          "output_type": "execute_result",
          "data": {
            "text/plain": [
              "   Ticket_ID  Age  Ticket_Price Movie_Genre Seat_Type Number_of_Person  \\\n",
              "0      N4369   55         12.27      Comedy  Standard                7   \n",
              "1      B8091   35         19.02       Drama  Standard            Alone   \n",
              "2      V6341   55         22.52      Horror       VIP                3   \n",
              "3      B3243   53         23.01       Drama  Standard                6   \n",
              "4      I3814   30         21.81      Comedy       VIP                4   \n",
              "5      E5655   28         11.58      Horror       VIP            Alone   \n",
              "6      P1526   50         22.91      Action  Standard            Alone   \n",
              "7      V4726   44         23.09      Sci-Fi   Premium                7   \n",
              "8      A2029   46         12.12      Sci-Fi  Standard            Alone   \n",
              "9      P0092   48         19.63      Action       VIP            Alone   \n",
              "10     H4037   51         21.35      Action  Standard                2   \n",
              "11     L2502   56         14.06      Comedy       VIP            Alone   \n",
              "12     P4991   40         16.75      Horror       VIP                6   \n",
              "13     L1185   26         23.39       Drama   Premium            Alone   \n",
              "14     M6402   22         22.29      Sci-Fi   Premium            Alone   \n",
              "\n",
              "   Purchase_Again  \n",
              "0              No  \n",
              "1             Yes  \n",
              "2              No  \n",
              "3             Yes  \n",
              "4             Yes  \n",
              "5             Yes  \n",
              "6             Yes  \n",
              "7             Yes  \n",
              "8             Yes  \n",
              "9             Yes  \n",
              "10            Yes  \n",
              "11             No  \n",
              "12             No  \n",
              "13             No  \n",
              "14            Yes  "
            ],
            "text/html": [
              "\n",
              "  <div id=\"df-0384042e-24e6-417d-acb1-39df023fffed\" class=\"colab-df-container\">\n",
              "    <div>\n",
              "<style scoped>\n",
              "    .dataframe tbody tr th:only-of-type {\n",
              "        vertical-align: middle;\n",
              "    }\n",
              "\n",
              "    .dataframe tbody tr th {\n",
              "        vertical-align: top;\n",
              "    }\n",
              "\n",
              "    .dataframe thead th {\n",
              "        text-align: right;\n",
              "    }\n",
              "</style>\n",
              "<table border=\"1\" class=\"dataframe\">\n",
              "  <thead>\n",
              "    <tr style=\"text-align: right;\">\n",
              "      <th></th>\n",
              "      <th>Ticket_ID</th>\n",
              "      <th>Age</th>\n",
              "      <th>Ticket_Price</th>\n",
              "      <th>Movie_Genre</th>\n",
              "      <th>Seat_Type</th>\n",
              "      <th>Number_of_Person</th>\n",
              "      <th>Purchase_Again</th>\n",
              "    </tr>\n",
              "  </thead>\n",
              "  <tbody>\n",
              "    <tr>\n",
              "      <th>0</th>\n",
              "      <td>N4369</td>\n",
              "      <td>55</td>\n",
              "      <td>12.27</td>\n",
              "      <td>Comedy</td>\n",
              "      <td>Standard</td>\n",
              "      <td>7</td>\n",
              "      <td>No</td>\n",
              "    </tr>\n",
              "    <tr>\n",
              "      <th>1</th>\n",
              "      <td>B8091</td>\n",
              "      <td>35</td>\n",
              "      <td>19.02</td>\n",
              "      <td>Drama</td>\n",
              "      <td>Standard</td>\n",
              "      <td>Alone</td>\n",
              "      <td>Yes</td>\n",
              "    </tr>\n",
              "    <tr>\n",
              "      <th>2</th>\n",
              "      <td>V6341</td>\n",
              "      <td>55</td>\n",
              "      <td>22.52</td>\n",
              "      <td>Horror</td>\n",
              "      <td>VIP</td>\n",
              "      <td>3</td>\n",
              "      <td>No</td>\n",
              "    </tr>\n",
              "    <tr>\n",
              "      <th>3</th>\n",
              "      <td>B3243</td>\n",
              "      <td>53</td>\n",
              "      <td>23.01</td>\n",
              "      <td>Drama</td>\n",
              "      <td>Standard</td>\n",
              "      <td>6</td>\n",
              "      <td>Yes</td>\n",
              "    </tr>\n",
              "    <tr>\n",
              "      <th>4</th>\n",
              "      <td>I3814</td>\n",
              "      <td>30</td>\n",
              "      <td>21.81</td>\n",
              "      <td>Comedy</td>\n",
              "      <td>VIP</td>\n",
              "      <td>4</td>\n",
              "      <td>Yes</td>\n",
              "    </tr>\n",
              "    <tr>\n",
              "      <th>5</th>\n",
              "      <td>E5655</td>\n",
              "      <td>28</td>\n",
              "      <td>11.58</td>\n",
              "      <td>Horror</td>\n",
              "      <td>VIP</td>\n",
              "      <td>Alone</td>\n",
              "      <td>Yes</td>\n",
              "    </tr>\n",
              "    <tr>\n",
              "      <th>6</th>\n",
              "      <td>P1526</td>\n",
              "      <td>50</td>\n",
              "      <td>22.91</td>\n",
              "      <td>Action</td>\n",
              "      <td>Standard</td>\n",
              "      <td>Alone</td>\n",
              "      <td>Yes</td>\n",
              "    </tr>\n",
              "    <tr>\n",
              "      <th>7</th>\n",
              "      <td>V4726</td>\n",
              "      <td>44</td>\n",
              "      <td>23.09</td>\n",
              "      <td>Sci-Fi</td>\n",
              "      <td>Premium</td>\n",
              "      <td>7</td>\n",
              "      <td>Yes</td>\n",
              "    </tr>\n",
              "    <tr>\n",
              "      <th>8</th>\n",
              "      <td>A2029</td>\n",
              "      <td>46</td>\n",
              "      <td>12.12</td>\n",
              "      <td>Sci-Fi</td>\n",
              "      <td>Standard</td>\n",
              "      <td>Alone</td>\n",
              "      <td>Yes</td>\n",
              "    </tr>\n",
              "    <tr>\n",
              "      <th>9</th>\n",
              "      <td>P0092</td>\n",
              "      <td>48</td>\n",
              "      <td>19.63</td>\n",
              "      <td>Action</td>\n",
              "      <td>VIP</td>\n",
              "      <td>Alone</td>\n",
              "      <td>Yes</td>\n",
              "    </tr>\n",
              "    <tr>\n",
              "      <th>10</th>\n",
              "      <td>H4037</td>\n",
              "      <td>51</td>\n",
              "      <td>21.35</td>\n",
              "      <td>Action</td>\n",
              "      <td>Standard</td>\n",
              "      <td>2</td>\n",
              "      <td>Yes</td>\n",
              "    </tr>\n",
              "    <tr>\n",
              "      <th>11</th>\n",
              "      <td>L2502</td>\n",
              "      <td>56</td>\n",
              "      <td>14.06</td>\n",
              "      <td>Comedy</td>\n",
              "      <td>VIP</td>\n",
              "      <td>Alone</td>\n",
              "      <td>No</td>\n",
              "    </tr>\n",
              "    <tr>\n",
              "      <th>12</th>\n",
              "      <td>P4991</td>\n",
              "      <td>40</td>\n",
              "      <td>16.75</td>\n",
              "      <td>Horror</td>\n",
              "      <td>VIP</td>\n",
              "      <td>6</td>\n",
              "      <td>No</td>\n",
              "    </tr>\n",
              "    <tr>\n",
              "      <th>13</th>\n",
              "      <td>L1185</td>\n",
              "      <td>26</td>\n",
              "      <td>23.39</td>\n",
              "      <td>Drama</td>\n",
              "      <td>Premium</td>\n",
              "      <td>Alone</td>\n",
              "      <td>No</td>\n",
              "    </tr>\n",
              "    <tr>\n",
              "      <th>14</th>\n",
              "      <td>M6402</td>\n",
              "      <td>22</td>\n",
              "      <td>22.29</td>\n",
              "      <td>Sci-Fi</td>\n",
              "      <td>Premium</td>\n",
              "      <td>Alone</td>\n",
              "      <td>Yes</td>\n",
              "    </tr>\n",
              "  </tbody>\n",
              "</table>\n",
              "</div>\n",
              "    <div class=\"colab-df-buttons\">\n",
              "\n",
              "  <div class=\"colab-df-container\">\n",
              "    <button class=\"colab-df-convert\" onclick=\"convertToInteractive('df-0384042e-24e6-417d-acb1-39df023fffed')\"\n",
              "            title=\"Convert this dataframe to an interactive table.\"\n",
              "            style=\"display:none;\">\n",
              "\n",
              "  <svg xmlns=\"http://www.w3.org/2000/svg\" height=\"24px\" viewBox=\"0 -960 960 960\">\n",
              "    <path d=\"M120-120v-720h720v720H120Zm60-500h600v-160H180v160Zm220 220h160v-160H400v160Zm0 220h160v-160H400v160ZM180-400h160v-160H180v160Zm440 0h160v-160H620v160ZM180-180h160v-160H180v160Zm440 0h160v-160H620v160Z\"/>\n",
              "  </svg>\n",
              "    </button>\n",
              "\n",
              "  <style>\n",
              "    .colab-df-container {\n",
              "      display:flex;\n",
              "      gap: 12px;\n",
              "    }\n",
              "\n",
              "    .colab-df-convert {\n",
              "      background-color: #E8F0FE;\n",
              "      border: none;\n",
              "      border-radius: 50%;\n",
              "      cursor: pointer;\n",
              "      display: none;\n",
              "      fill: #1967D2;\n",
              "      height: 32px;\n",
              "      padding: 0 0 0 0;\n",
              "      width: 32px;\n",
              "    }\n",
              "\n",
              "    .colab-df-convert:hover {\n",
              "      background-color: #E2EBFA;\n",
              "      box-shadow: 0px 1px 2px rgba(60, 64, 67, 0.3), 0px 1px 3px 1px rgba(60, 64, 67, 0.15);\n",
              "      fill: #174EA6;\n",
              "    }\n",
              "\n",
              "    .colab-df-buttons div {\n",
              "      margin-bottom: 4px;\n",
              "    }\n",
              "\n",
              "    [theme=dark] .colab-df-convert {\n",
              "      background-color: #3B4455;\n",
              "      fill: #D2E3FC;\n",
              "    }\n",
              "\n",
              "    [theme=dark] .colab-df-convert:hover {\n",
              "      background-color: #434B5C;\n",
              "      box-shadow: 0px 1px 3px 1px rgba(0, 0, 0, 0.15);\n",
              "      filter: drop-shadow(0px 1px 2px rgba(0, 0, 0, 0.3));\n",
              "      fill: #FFFFFF;\n",
              "    }\n",
              "  </style>\n",
              "\n",
              "    <script>\n",
              "      const buttonEl =\n",
              "        document.querySelector('#df-0384042e-24e6-417d-acb1-39df023fffed button.colab-df-convert');\n",
              "      buttonEl.style.display =\n",
              "        google.colab.kernel.accessAllowed ? 'block' : 'none';\n",
              "\n",
              "      async function convertToInteractive(key) {\n",
              "        const element = document.querySelector('#df-0384042e-24e6-417d-acb1-39df023fffed');\n",
              "        const dataTable =\n",
              "          await google.colab.kernel.invokeFunction('convertToInteractive',\n",
              "                                                    [key], {});\n",
              "        if (!dataTable) return;\n",
              "\n",
              "        const docLinkHtml = 'Like what you see? Visit the ' +\n",
              "          '<a target=\"_blank\" href=https://colab.research.google.com/notebooks/data_table.ipynb>data table notebook</a>'\n",
              "          + ' to learn more about interactive tables.';\n",
              "        element.innerHTML = '';\n",
              "        dataTable['output_type'] = 'display_data';\n",
              "        await google.colab.output.renderOutput(dataTable, element);\n",
              "        const docLink = document.createElement('div');\n",
              "        docLink.innerHTML = docLinkHtml;\n",
              "        element.appendChild(docLink);\n",
              "      }\n",
              "    </script>\n",
              "  </div>\n",
              "\n",
              "\n",
              "<div id=\"df-93394416-5b75-4d52-aa6d-d7e5ebfd0900\">\n",
              "  <button class=\"colab-df-quickchart\" onclick=\"quickchart('df-93394416-5b75-4d52-aa6d-d7e5ebfd0900')\"\n",
              "            title=\"Suggest charts\"\n",
              "            style=\"display:none;\">\n",
              "\n",
              "<svg xmlns=\"http://www.w3.org/2000/svg\" height=\"24px\"viewBox=\"0 0 24 24\"\n",
              "     width=\"24px\">\n",
              "    <g>\n",
              "        <path d=\"M19 3H5c-1.1 0-2 .9-2 2v14c0 1.1.9 2 2 2h14c1.1 0 2-.9 2-2V5c0-1.1-.9-2-2-2zM9 17H7v-7h2v7zm4 0h-2V7h2v10zm4 0h-2v-4h2v4z\"/>\n",
              "    </g>\n",
              "</svg>\n",
              "  </button>\n",
              "\n",
              "<style>\n",
              "  .colab-df-quickchart {\n",
              "      --bg-color: #E8F0FE;\n",
              "      --fill-color: #1967D2;\n",
              "      --hover-bg-color: #E2EBFA;\n",
              "      --hover-fill-color: #174EA6;\n",
              "      --disabled-fill-color: #AAA;\n",
              "      --disabled-bg-color: #DDD;\n",
              "  }\n",
              "\n",
              "  [theme=dark] .colab-df-quickchart {\n",
              "      --bg-color: #3B4455;\n",
              "      --fill-color: #D2E3FC;\n",
              "      --hover-bg-color: #434B5C;\n",
              "      --hover-fill-color: #FFFFFF;\n",
              "      --disabled-bg-color: #3B4455;\n",
              "      --disabled-fill-color: #666;\n",
              "  }\n",
              "\n",
              "  .colab-df-quickchart {\n",
              "    background-color: var(--bg-color);\n",
              "    border: none;\n",
              "    border-radius: 50%;\n",
              "    cursor: pointer;\n",
              "    display: none;\n",
              "    fill: var(--fill-color);\n",
              "    height: 32px;\n",
              "    padding: 0;\n",
              "    width: 32px;\n",
              "  }\n",
              "\n",
              "  .colab-df-quickchart:hover {\n",
              "    background-color: var(--hover-bg-color);\n",
              "    box-shadow: 0 1px 2px rgba(60, 64, 67, 0.3), 0 1px 3px 1px rgba(60, 64, 67, 0.15);\n",
              "    fill: var(--button-hover-fill-color);\n",
              "  }\n",
              "\n",
              "  .colab-df-quickchart-complete:disabled,\n",
              "  .colab-df-quickchart-complete:disabled:hover {\n",
              "    background-color: var(--disabled-bg-color);\n",
              "    fill: var(--disabled-fill-color);\n",
              "    box-shadow: none;\n",
              "  }\n",
              "\n",
              "  .colab-df-spinner {\n",
              "    border: 2px solid var(--fill-color);\n",
              "    border-color: transparent;\n",
              "    border-bottom-color: var(--fill-color);\n",
              "    animation:\n",
              "      spin 1s steps(1) infinite;\n",
              "  }\n",
              "\n",
              "  @keyframes spin {\n",
              "    0% {\n",
              "      border-color: transparent;\n",
              "      border-bottom-color: var(--fill-color);\n",
              "      border-left-color: var(--fill-color);\n",
              "    }\n",
              "    20% {\n",
              "      border-color: transparent;\n",
              "      border-left-color: var(--fill-color);\n",
              "      border-top-color: var(--fill-color);\n",
              "    }\n",
              "    30% {\n",
              "      border-color: transparent;\n",
              "      border-left-color: var(--fill-color);\n",
              "      border-top-color: var(--fill-color);\n",
              "      border-right-color: var(--fill-color);\n",
              "    }\n",
              "    40% {\n",
              "      border-color: transparent;\n",
              "      border-right-color: var(--fill-color);\n",
              "      border-top-color: var(--fill-color);\n",
              "    }\n",
              "    60% {\n",
              "      border-color: transparent;\n",
              "      border-right-color: var(--fill-color);\n",
              "    }\n",
              "    80% {\n",
              "      border-color: transparent;\n",
              "      border-right-color: var(--fill-color);\n",
              "      border-bottom-color: var(--fill-color);\n",
              "    }\n",
              "    90% {\n",
              "      border-color: transparent;\n",
              "      border-bottom-color: var(--fill-color);\n",
              "    }\n",
              "  }\n",
              "</style>\n",
              "\n",
              "  <script>\n",
              "    async function quickchart(key) {\n",
              "      const quickchartButtonEl =\n",
              "        document.querySelector('#' + key + ' button');\n",
              "      quickchartButtonEl.disabled = true;  // To prevent multiple clicks.\n",
              "      quickchartButtonEl.classList.add('colab-df-spinner');\n",
              "      try {\n",
              "        const charts = await google.colab.kernel.invokeFunction(\n",
              "            'suggestCharts', [key], {});\n",
              "      } catch (error) {\n",
              "        console.error('Error during call to suggestCharts:', error);\n",
              "      }\n",
              "      quickchartButtonEl.classList.remove('colab-df-spinner');\n",
              "      quickchartButtonEl.classList.add('colab-df-quickchart-complete');\n",
              "    }\n",
              "    (() => {\n",
              "      let quickchartButtonEl =\n",
              "        document.querySelector('#df-93394416-5b75-4d52-aa6d-d7e5ebfd0900 button');\n",
              "      quickchartButtonEl.style.display =\n",
              "        google.colab.kernel.accessAllowed ? 'block' : 'none';\n",
              "    })();\n",
              "  </script>\n",
              "</div>\n",
              "\n",
              "    </div>\n",
              "  </div>\n"
            ],
            "application/vnd.google.colaboratory.intrinsic+json": {
              "type": "dataframe",
              "variable_name": "df",
              "summary": "{\n  \"name\": \"df\",\n  \"rows\": 1440,\n  \"fields\": [\n    {\n      \"column\": \"Ticket_ID\",\n      \"properties\": {\n        \"dtype\": \"string\",\n        \"num_unique_values\": 1436,\n        \"samples\": [\n          \"G5657\",\n          \"K6175\",\n          \"L6719\"\n        ],\n        \"semantic_type\": \"\",\n        \"description\": \"\"\n      }\n    },\n    {\n      \"column\": \"Age\",\n      \"properties\": {\n        \"dtype\": \"number\",\n        \"std\": 12,\n        \"min\": 18,\n        \"max\": 60,\n        \"num_unique_values\": 43,\n        \"samples\": [\n          36,\n          32,\n          33\n        ],\n        \"semantic_type\": \"\",\n        \"description\": \"\"\n      }\n    },\n    {\n      \"column\": \"Ticket_Price\",\n      \"properties\": {\n        \"dtype\": \"number\",\n        \"std\": 4.3970869660014875,\n        \"min\": 10.01,\n        \"max\": 24.99,\n        \"num_unique_values\": 942,\n        \"samples\": [\n          14.43,\n          15.82,\n          12.21\n        ],\n        \"semantic_type\": \"\",\n        \"description\": \"\"\n      }\n    },\n    {\n      \"column\": \"Movie_Genre\",\n      \"properties\": {\n        \"dtype\": \"category\",\n        \"num_unique_values\": 5,\n        \"samples\": [\n          \"Drama\",\n          \"Sci-Fi\",\n          \"Horror\"\n        ],\n        \"semantic_type\": \"\",\n        \"description\": \"\"\n      }\n    },\n    {\n      \"column\": \"Seat_Type\",\n      \"properties\": {\n        \"dtype\": \"category\",\n        \"num_unique_values\": 3,\n        \"samples\": [\n          \"Standard\",\n          \"VIP\",\n          \"Premium\"\n        ],\n        \"semantic_type\": \"\",\n        \"description\": \"\"\n      }\n    },\n    {\n      \"column\": \"Number_of_Person\",\n      \"properties\": {\n        \"dtype\": \"category\",\n        \"num_unique_values\": 7,\n        \"samples\": [\n          \"7\",\n          \"Alone\",\n          \"2\"\n        ],\n        \"semantic_type\": \"\",\n        \"description\": \"\"\n      }\n    },\n    {\n      \"column\": \"Purchase_Again\",\n      \"properties\": {\n        \"dtype\": \"category\",\n        \"num_unique_values\": 2,\n        \"samples\": [\n          \"Yes\",\n          \"No\"\n        ],\n        \"semantic_type\": \"\",\n        \"description\": \"\"\n      }\n    }\n  ]\n}"
            }
          },
          "metadata": {},
          "execution_count": 4
        }
      ],
      "source": [
        "df.head(15)"
      ]
    },
    {
      "cell_type": "markdown",
      "metadata": {
        "id": "iXOcRugsYcHg"
      },
      "source": [
        "# Checking for Null Values"
      ]
    },
    {
      "cell_type": "code",
      "execution_count": null,
      "metadata": {
        "id": "GrWQSmypxYe1",
        "colab": {
          "base_uri": "https://localhost:8080/",
          "height": 303
        },
        "outputId": "d5de51a4-4a5f-416b-a196-864ab983da56"
      },
      "outputs": [
        {
          "output_type": "execute_result",
          "data": {
            "text/plain": [
              "Ticket_ID           0\n",
              "Age                 0\n",
              "Ticket_Price        0\n",
              "Movie_Genre         0\n",
              "Seat_Type           0\n",
              "Number_of_Person    0\n",
              "Purchase_Again      0\n",
              "dtype: int64"
            ],
            "text/html": [
              "<div>\n",
              "<style scoped>\n",
              "    .dataframe tbody tr th:only-of-type {\n",
              "        vertical-align: middle;\n",
              "    }\n",
              "\n",
              "    .dataframe tbody tr th {\n",
              "        vertical-align: top;\n",
              "    }\n",
              "\n",
              "    .dataframe thead th {\n",
              "        text-align: right;\n",
              "    }\n",
              "</style>\n",
              "<table border=\"1\" class=\"dataframe\">\n",
              "  <thead>\n",
              "    <tr style=\"text-align: right;\">\n",
              "      <th></th>\n",
              "      <th>0</th>\n",
              "    </tr>\n",
              "  </thead>\n",
              "  <tbody>\n",
              "    <tr>\n",
              "      <th>Ticket_ID</th>\n",
              "      <td>0</td>\n",
              "    </tr>\n",
              "    <tr>\n",
              "      <th>Age</th>\n",
              "      <td>0</td>\n",
              "    </tr>\n",
              "    <tr>\n",
              "      <th>Ticket_Price</th>\n",
              "      <td>0</td>\n",
              "    </tr>\n",
              "    <tr>\n",
              "      <th>Movie_Genre</th>\n",
              "      <td>0</td>\n",
              "    </tr>\n",
              "    <tr>\n",
              "      <th>Seat_Type</th>\n",
              "      <td>0</td>\n",
              "    </tr>\n",
              "    <tr>\n",
              "      <th>Number_of_Person</th>\n",
              "      <td>0</td>\n",
              "    </tr>\n",
              "    <tr>\n",
              "      <th>Purchase_Again</th>\n",
              "      <td>0</td>\n",
              "    </tr>\n",
              "  </tbody>\n",
              "</table>\n",
              "</div><br><label><b>dtype:</b> int64</label>"
            ]
          },
          "metadata": {},
          "execution_count": 5
        }
      ],
      "source": [
        "df.isnull().sum()"
      ]
    },
    {
      "cell_type": "markdown",
      "metadata": {
        "id": "OaIyuI5aYgtL"
      },
      "source": [
        "# Checking if the Dataset is Imbalanced or not"
      ]
    },
    {
      "cell_type": "code",
      "execution_count": null,
      "metadata": {
        "id": "8KhJELxpx8D2",
        "colab": {
          "base_uri": "https://localhost:8080/",
          "height": 178
        },
        "outputId": "7a6db5de-4212-41d1-ebba-d2c90d3c8dd1"
      },
      "outputs": [
        {
          "output_type": "execute_result",
          "data": {
            "text/plain": [
              "Purchase_Again\n",
              "No     733\n",
              "Yes    707\n",
              "Name: count, dtype: int64"
            ],
            "text/html": [
              "<div>\n",
              "<style scoped>\n",
              "    .dataframe tbody tr th:only-of-type {\n",
              "        vertical-align: middle;\n",
              "    }\n",
              "\n",
              "    .dataframe tbody tr th {\n",
              "        vertical-align: top;\n",
              "    }\n",
              "\n",
              "    .dataframe thead th {\n",
              "        text-align: right;\n",
              "    }\n",
              "</style>\n",
              "<table border=\"1\" class=\"dataframe\">\n",
              "  <thead>\n",
              "    <tr style=\"text-align: right;\">\n",
              "      <th></th>\n",
              "      <th>count</th>\n",
              "    </tr>\n",
              "    <tr>\n",
              "      <th>Purchase_Again</th>\n",
              "      <th></th>\n",
              "    </tr>\n",
              "  </thead>\n",
              "  <tbody>\n",
              "    <tr>\n",
              "      <th>No</th>\n",
              "      <td>733</td>\n",
              "    </tr>\n",
              "    <tr>\n",
              "      <th>Yes</th>\n",
              "      <td>707</td>\n",
              "    </tr>\n",
              "  </tbody>\n",
              "</table>\n",
              "</div><br><label><b>dtype:</b> int64</label>"
            ]
          },
          "metadata": {},
          "execution_count": 6
        }
      ],
      "source": [
        "# Check if the dataset is balanced or not\n",
        "df['Purchase_Again'].value_counts()"
      ]
    },
    {
      "cell_type": "code",
      "execution_count": null,
      "metadata": {
        "id": "kNthQ0y7zORO",
        "colab": {
          "base_uri": "https://localhost:8080/"
        },
        "outputId": "9f8a44a9-9060-4062-c801-22ca41c3fde2"
      },
      "outputs": [
        {
          "output_type": "execute_result",
          "data": {
            "text/plain": [
              "array(['Comedy', 'Drama', 'Horror', 'Action', 'Sci-Fi'], dtype=object)"
            ]
          },
          "metadata": {},
          "execution_count": 7
        }
      ],
      "source": [
        "df['Movie_Genre'].unique()"
      ]
    },
    {
      "cell_type": "code",
      "execution_count": null,
      "metadata": {
        "id": "L-PN6qP3zQ9-",
        "colab": {
          "base_uri": "https://localhost:8080/"
        },
        "outputId": "af3c8946-8646-4390-aa41-417721067f3a"
      },
      "outputs": [
        {
          "output_type": "execute_result",
          "data": {
            "text/plain": [
              "array(['Standard', 'VIP', 'Premium'], dtype=object)"
            ]
          },
          "metadata": {},
          "execution_count": 8
        }
      ],
      "source": [
        "df['Seat_Type'].unique()"
      ]
    },
    {
      "cell_type": "code",
      "execution_count": null,
      "metadata": {
        "id": "K2D_GjtOzRZ9",
        "colab": {
          "base_uri": "https://localhost:8080/"
        },
        "outputId": "b53833be-66d4-42d8-bc6e-572d9f0d2038"
      },
      "outputs": [
        {
          "output_type": "execute_result",
          "data": {
            "text/plain": [
              "array(['7', 'Alone', '3', '6', '4', '2', '5'], dtype=object)"
            ]
          },
          "metadata": {},
          "execution_count": 9
        }
      ],
      "source": [
        "df['Number_of_Person'].unique()"
      ]
    },
    {
      "cell_type": "markdown",
      "metadata": {
        "id": "Y2xh6wrcyx6u"
      },
      "source": [
        "# Mapping"
      ]
    },
    {
      "cell_type": "code",
      "execution_count": null,
      "metadata": {
        "id": "vLwmQJnrywXV",
        "colab": {
          "base_uri": "https://localhost:8080/"
        },
        "outputId": "26c56f17-54f2-48d0-bb7b-52457d510cf8"
      },
      "outputs": [
        {
          "output_type": "stream",
          "name": "stderr",
          "text": [
            "<ipython-input-10-f2b02311e7ca>:7: FutureWarning: Downcasting behavior in `replace` is deprecated and will be removed in a future version. To retain the old behavior, explicitly call `result.infer_objects(copy=False)`. To opt-in to the future behavior, set `pd.set_option('future.no_silent_downcasting', True)`\n",
            "  df.replace (mappings, inplace=True)\n"
          ]
        }
      ],
      "source": [
        "mappings = {\"Movie_Genre\":{'Comedy': 3 , 'Drama': 2, 'Horror': 1, 'Action': 0, 'Sci-Fi': 4},\n",
        "            \"Seat_Type\":{'Standard': 3 , 'VIP': 2, 'Premium': 1},\n",
        "            \"Number_of_Person\":{'Alone': 1, '2': 2, '3': 3, '4': 4, '5': 5, '6': 6, '7': 7},\n",
        "            \"Purchase_Again\":{'Yes': 1 , 'No': 0}\n",
        "}\n",
        "\n",
        "df.replace (mappings, inplace=True)"
      ]
    },
    {
      "cell_type": "markdown",
      "metadata": {
        "id": "XrGijh4DYwYn"
      },
      "source": [
        "# Selecting Features"
      ]
    },
    {
      "cell_type": "code",
      "execution_count": null,
      "metadata": {
        "id": "kcBs_M0e2Xa7"
      },
      "outputs": [],
      "source": [
        "X = df.drop(['Ticket_ID', 'Purchase_Again', 'Age', 'Number_of_Person'], axis=1)\n",
        "y = df['Purchase_Again']"
      ]
    },
    {
      "cell_type": "markdown",
      "metadata": {
        "id": "hEc_OueBY0CI"
      },
      "source": [
        "# Train Test Split"
      ]
    },
    {
      "cell_type": "code",
      "execution_count": null,
      "metadata": {
        "id": "v3wHG7M-0znO"
      },
      "outputs": [],
      "source": [
        "X_train, X_test, y_train, y_test = train_test_split(X, y, test_size=0.2, random_state=42)"
      ]
    },
    {
      "cell_type": "markdown",
      "metadata": {
        "id": "JCmHUKvx4rSn"
      },
      "source": [
        "#SVM"
      ]
    },
    {
      "cell_type": "code",
      "execution_count": null,
      "metadata": {
        "id": "UkXj8DOL1dyP",
        "colab": {
          "base_uri": "https://localhost:8080/"
        },
        "outputId": "799046b3-77ff-4eb3-d2d3-d36cdd5551e9"
      },
      "outputs": [
        {
          "output_type": "stream",
          "name": "stdout",
          "text": [
            "Accuracy: 0.5555555555555556\n",
            "Precision: 0.558709041635871\n",
            "Recall: 0.5555555555555556\n"
          ]
        }
      ],
      "source": [
        "model = SVC(kernel='poly', gamma= 1, random_state=42, C = 50)\n",
        "svm_predictions = model.fit(X_train, y_train)\n",
        "y_pred_svc = model.predict(X_test)\n",
        "accuracy = accuracy_score(y_test, y_pred_svc)\n",
        "precision = precision_score(y_test, y_pred_svc, average = 'weighted')\n",
        "recall = recall_score(y_test, y_pred_svc, average = 'weighted')\n",
        "print(f\"Accuracy: {accuracy}\")\n",
        "print(f\"Precision: {precision}\")\n",
        "print(f\"Recall: {recall}\")\n",
        "\n"
      ]
    },
    {
      "cell_type": "code",
      "execution_count": null,
      "metadata": {
        "id": "IqDqPchI-Uab",
        "colab": {
          "base_uri": "https://localhost:8080/"
        },
        "outputId": "1190093f-6349-40a7-b388-741aa779e4b3"
      },
      "outputs": [
        {
          "output_type": "execute_result",
          "data": {
            "text/plain": [
              "array([[89, 52],\n",
              "       [76, 71]])"
            ]
          },
          "metadata": {},
          "execution_count": 14
        }
      ],
      "source": [
        "cm = confusion_matrix(y_test, y_pred_svc)\n",
        "cm"
      ]
    },
    {
      "cell_type": "markdown",
      "metadata": {
        "id": "MELyKt5a41Bf"
      },
      "source": [
        "# Decision Tree"
      ]
    },
    {
      "cell_type": "code",
      "execution_count": null,
      "metadata": {
        "id": "PX1_I8Rk4ofv",
        "colab": {
          "base_uri": "https://localhost:8080/"
        },
        "outputId": "8ee2914a-8022-409a-a9b9-dd6a5a5492bd"
      },
      "outputs": [
        {
          "output_type": "stream",
          "name": "stdout",
          "text": [
            "Accuracy: 0.5069444444444444\n",
            "Precision: 0.5103392530709172\n",
            "Recall: 0.5069444444444444\n"
          ]
        }
      ],
      "source": [
        "model = DecisionTreeClassifier(criterion = 'log_loss', max_depth= 15, min_samples_split= 25)\n",
        "dt_predictions = model\n",
        "dt_predictions.fit(X_train, y_train)\n",
        "y_pred_dt = dt_predictions.predict(X_test)\n",
        "accuracy = accuracy_score(y_test, y_pred_dt)\n",
        "precision = precision_score(y_test, y_pred_dt, average = 'weighted')\n",
        "recall = recall_score(y_test, y_pred_dt, average = 'weighted')\n",
        "print(f\"Accuracy: {accuracy}\")\n",
        "print(f\"Precision: {precision}\")\n",
        "print(f\"Recall: {recall}\")\n",
        "\n"
      ]
    },
    {
      "cell_type": "code",
      "execution_count": null,
      "metadata": {
        "id": "eki-wa7O93DY",
        "colab": {
          "base_uri": "https://localhost:8080/"
        },
        "outputId": "ff9456f6-8255-4fad-b4e7-a9f4ac647027"
      },
      "outputs": [
        {
          "output_type": "execute_result",
          "data": {
            "text/plain": [
              "array([[89, 52],\n",
              "       [90, 57]])"
            ]
          },
          "metadata": {},
          "execution_count": 16
        }
      ],
      "source": [
        "cm = confusion_matrix(y_test, y_pred_dt)\n",
        "cm"
      ]
    },
    {
      "cell_type": "markdown",
      "metadata": {
        "id": "rFj6gOOw5Rh_"
      },
      "source": [
        "# Random Forest"
      ]
    },
    {
      "cell_type": "code",
      "execution_count": null,
      "metadata": {
        "id": "S4CLuMe-5jAg",
        "colab": {
          "base_uri": "https://localhost:8080/"
        },
        "outputId": "7834c821-c39e-4d6e-c07a-440450780ddc"
      },
      "outputs": [
        {
          "output_type": "stream",
          "name": "stdout",
          "text": [
            "Accuracy: 0.5104166666666666\n",
            "Precision: 0.5116003787878788\n",
            "Recall: 0.5104166666666666\n"
          ]
        }
      ],
      "source": [
        "rf = RandomForestClassifier(n_estimators = 100, max_depth = 5, min_samples_split = 4, random_state=500)\n",
        "rf.fit (X_train, y_train)\n",
        "y_pred_rf = rf.predict(X_test)\n",
        "accuracy = accuracy_score(y_test, y_pred_rf)\n",
        "precision = precision_score(y_test, y_pred_rf, average = 'weighted')\n",
        "recall = recall_score(y_test, y_pred_rf, average = 'weighted')\n",
        "print(f\"Accuracy: {accuracy}\")\n",
        "print(f\"Precision: {precision}\")\n",
        "print(f\"Recall: {recall}\")\n",
        "\n"
      ]
    },
    {
      "cell_type": "code",
      "execution_count": null,
      "metadata": {
        "id": "NEuMoweq-Rrx",
        "colab": {
          "base_uri": "https://localhost:8080/"
        },
        "outputId": "6dc548cd-1b15-415b-a2b6-4366d7cab5f3"
      },
      "outputs": [
        {
          "output_type": "execute_result",
          "data": {
            "text/plain": [
              "array([[78, 63],\n",
              "       [78, 69]])"
            ]
          },
          "metadata": {},
          "execution_count": 18
        }
      ],
      "source": [
        "cm = confusion_matrix(y_test, y_pred_rf)\n",
        "cm"
      ]
    },
    {
      "cell_type": "code",
      "execution_count": null,
      "metadata": {
        "id": "IzwAHxFr55zp",
        "colab": {
          "base_uri": "https://localhost:8080/"
        },
        "outputId": "510a82a4-806d-4f32-e065-1b11291ea001"
      },
      "outputs": [
        {
          "output_type": "stream",
          "name": "stdout",
          "text": [
            "           Model  Accuracy  Precision    Recall\n",
            "0            SVM  0.555556   0.558709  0.555556\n",
            "1  Decision Tree  0.506944   0.510339  0.506944\n",
            "2  Random Forest  0.510417   0.511600  0.510417\n"
          ]
        }
      ],
      "source": [
        "results = [\n",
        "    [\"SVM\", accuracy_score(y_test, y_pred_svc), precision_score(y_test, y_pred_svc, average='weighted'), recall_score(y_test, y_pred_svc, average='weighted')],\n",
        "    [\"Decision Tree\", accuracy_score(y_test, y_pred_dt), precision_score(y_test, y_pred_dt, average='weighted'), recall_score(y_test, y_pred_dt, average='weighted')],\n",
        "    [\"Random Forest\", accuracy_score(y_test, y_pred_rf), precision_score(y_test, y_pred_rf, average='weighted'), recall_score(y_test, y_pred_rf, average='weighted')],\n",
        "]\n",
        "\n",
        "df_results = pd.DataFrame(results, columns=[\"Model\", \"Accuracy\", \"Precision\", \"Recall\"])\n",
        "\n",
        "print(df_results)"
      ]
    },
    {
      "cell_type": "markdown",
      "metadata": {
        "id": "qHiowVVfZEYB"
      },
      "source": [
        "# Grid search"
      ]
    },
    {
      "cell_type": "markdown",
      "metadata": {
        "id": "rJBB-RqrZIU3"
      },
      "source": [
        "# Grid Search on SVM"
      ]
    },
    {
      "cell_type": "code",
      "execution_count": null,
      "metadata": {
        "id": "PTOU8tzjZYC3",
        "colab": {
          "base_uri": "https://localhost:8080/"
        },
        "outputId": "f3c9ed1a-1a8e-40c7-b7b0-897b24fe9158"
      },
      "outputs": [
        {
          "output_type": "stream",
          "name": "stdout",
          "text": [
            "Best Parameters: {'C': 50, 'gamma': 1, 'kernel': 'poly'}\n",
            "Best Accuracy: 0.5468849990589121\n"
          ]
        }
      ],
      "source": [
        "param_grid = {\n",
        "    'C': [ 5, 10, 50],\n",
        "    'kernel': ['linear', 'rbf', 'poly', 'sigmoid'],\n",
        "    'gamma': ['scale', 'auto' , 0.1, 0.5, 1],\n",
        "\n",
        "}\n",
        "\n",
        "gird_search = GridSearchCV(SVC(), param_grid, cv=5, scoring='accuracy', n_jobs=-1)\n",
        "gird_search.fit(X_train, y_train)\n",
        "\n",
        "print(\"Best Parameters:\", gird_search.best_params_)\n",
        "print(\"Best Accuracy:\", gird_search.best_score_)"
      ]
    },
    {
      "cell_type": "markdown",
      "metadata": {
        "id": "iG2pRtZRZZlP"
      },
      "source": [
        "# Grid Search on Decision Tree"
      ]
    },
    {
      "cell_type": "code",
      "execution_count": null,
      "metadata": {
        "id": "WWzsWdzFZeQO",
        "colab": {
          "base_uri": "https://localhost:8080/"
        },
        "outputId": "58cc30cd-8d57-4247-b94c-243bae82c583"
      },
      "outputs": [
        {
          "output_type": "stream",
          "name": "stdout",
          "text": [
            "Best Parameters: {'criterion': 'gini', 'max_depth': 35, 'min_samples_split': 2, 'random_state': 200}\n",
            "Best Accuracy: 0.50866930171278\n"
          ]
        }
      ],
      "source": [
        "param_grid = {\n",
        "    'criterion': ['gini', 'entropy', 'log_loss'],\n",
        "    'max_depth': [None ,35, 40, 50],\n",
        "    'min_samples_split': [2, 3, 4],\n",
        "    'random_state': [ 200, 300, 600]\n",
        "}\n",
        "\n",
        "grid_search = GridSearchCV(DecisionTreeClassifier(), param_grid, cv=5, scoring='accuracy', n_jobs=-1)\n",
        "grid_search.fit(X_train, y_train)\n",
        "\n",
        "print(\"Best Parameters:\", grid_search.best_params_)\n",
        "print(\"Best Accuracy:\", grid_search.best_score_)"
      ]
    },
    {
      "cell_type": "markdown",
      "metadata": {
        "id": "08XkgoL1ZdmX"
      },
      "source": [
        "# Grid Search on Random Forest"
      ]
    },
    {
      "cell_type": "code",
      "execution_count": null,
      "metadata": {
        "id": "PCXwUuuQ8aHw",
        "colab": {
          "base_uri": "https://localhost:8080/"
        },
        "outputId": "fe15ec48-ebdb-4ac4-8119-2590023060c3"
      },
      "outputs": [
        {
          "output_type": "stream",
          "name": "stdout",
          "text": [
            "Best Parameters: {'max_depth': 5, 'min_samples_split': 7, 'n_estimators': 200}\n",
            "Best Accuracy: 0.5243440617353661\n"
          ]
        }
      ],
      "source": [
        "param_grid = {\n",
        "    'n_estimators': [ 200, 250,  500],\n",
        "    'max_depth': [None, 5, 10,   35,],\n",
        "    'min_samples_split': [ 5, 6, 7],\n",
        "\n",
        "}\n",
        "\n",
        "\n",
        "grid_search = GridSearchCV(RandomForestClassifier(), param_grid, cv=5, scoring='accuracy', n_jobs=-1)\n",
        "grid_search.fit(X_train, y_train)\n",
        "\n",
        "print(\"Best Parameters:\", grid_search.best_params_)\n",
        "print(\"Best Accuracy:\", grid_search.best_score_)"
      ]
    }
  ],
  "metadata": {
    "colab": {
      "provenance": []
    },
    "kernelspec": {
      "display_name": "Python 3",
      "name": "python3"
    },
    "language_info": {
      "name": "python"
    }
  },
  "nbformat": 4,
  "nbformat_minor": 0
}